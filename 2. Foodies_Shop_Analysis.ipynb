{
 "cells": [
  {
   "cell_type": "markdown",
   "metadata": {},
   "source": [
    "# Foodies Shop Explore Data Analysis\n",
    "\n",
    "---\n",
    "\n",
    "1. In this notebook, we will explore each features in the table to see which columns is usable for ranking."
   ]
  },
  {
   "cell_type": "code",
   "execution_count": 4,
   "metadata": {},
   "outputs": [],
   "source": [
    "from utils import read_csv\n",
    "import pandas as pd"
   ]
  },
  {
   "cell_type": "code",
   "execution_count": 6,
   "metadata": {},
   "outputs": [],
   "source": [
    "shop = read_csv(\"shop\")"
   ]
  },
  {
   "cell_type": "code",
   "execution_count": 8,
   "metadata": {},
   "outputs": [
    {
     "name": "stdout",
     "output_type": "stream",
     "text": [
      "(65040, 34)\n"
     ]
    }
   ],
   "source": [
    "print(shop.shape)\n",
    "shop.columns\n",
    "# Interesting features includes (I'm imagining all the data are real)\n",
    "features = [\n",
    "    'description', # Maybe longer -> better?? Or descrption with some certain keywords has better score. (NLP)\n",
    "    'tel', 'website', 'line', 'facebook', 'instagram', # have vs doesn't have\n",
    "    'no_room', # more = better?\n",
    "    'no_floor', # higher = better? (will have low weight)\n",
    "    'lat', 'lng', # For location score\n",
    "    'shop_price_from', 'shop_price_to', # Price features\n",
    "    'has_carpark', # has = better\n",
    "    'worktime', # more opening hour ~~ better\n",
    "    'last_order', # more late ~~ better\n",
    "]"
   ]
  },
  {
   "cell_type": "code",
   "execution_count": 9,
   "metadata": {},
   "outputs": [
    {
     "data": {
      "text/plain": [
       "description           40\n",
       "tel                40198\n",
       "website             6786\n",
       "line                4876\n",
       "facebook           16679\n",
       "instagram           4464\n",
       "no_room               40\n",
       "no_floor              40\n",
       "lat                57358\n",
       "lng                57358\n",
       "shop_price_from    65040\n",
       "shop_price_to      65040\n",
       "has_carpark        65033\n",
       "worktime           44116\n",
       "last_order         65040\n",
       "dtype: int64"
      ]
     },
     "execution_count": 9,
     "metadata": {},
     "output_type": "execute_result"
    }
   ],
   "source": [
    "# Let's see how many of them looks ready.\n",
    "shop[features].notnull().sum()"
   ]
  },
  {
   "cell_type": "code",
   "execution_count": 14,
   "metadata": {},
   "outputs": [
    {
     "data": {
      "text/plain": [
       "Shop Description    35\n",
       "shooopim             1\n",
       "wqed                 1\n",
       "ward                 1\n",
       "wafs                 1\n",
       "wae                  1\n",
       "Name: description, dtype: int64"
      ]
     },
     "execution_count": 14,
     "metadata": {},
     "output_type": "execute_result"
    }
   ],
   "source": [
    "# Let's see description\n",
    "shop.description.dropna().value_counts()\n",
    "# Nope."
   ]
  },
  {
   "cell_type": "code",
   "execution_count": 44,
   "metadata": {},
   "outputs": [
    {
     "data": {
      "text/plain": [
       "5.0        1\n",
       "4.0      159\n",
       "3.0     1680\n",
       "2.0     8481\n",
       "0.0    24842\n",
       "1.0    29877\n",
       "Name: tel_count, dtype: int64"
      ]
     },
     "execution_count": 44,
     "metadata": {},
     "output_type": "execute_result"
    }
   ],
   "source": [
    "# Count number of tel.\n",
    "shop['tel_count'] = shop.tel.dropna().apply(lambda x: len(x.split(\",\")))\n",
    "shop['tel_count'] = shop.tel_count.fillna(0)\n",
    "shop['tel_count'].value_counts().sort_values()\n",
    "# TODO: clean the data, delete all not number, remove all invalid looking telephone number"
   ]
  },
  {
   "cell_type": "code",
   "execution_count": 121,
   "metadata": {},
   "outputs": [],
   "source": [
    "def clean_feature(col, condition, default = False):\n",
    "    return col.apply(lambda x: condition(x) if(not pd.isnull(x)) else x).fillna(default)\n",
    "\n",
    "shop['has_website'] = clean_feature(shop['website'], lambda x: x.find(\"http\") == 0)\n",
    "shop['has_line'] = clean_feature(shop['line'], lambda x: len(x) > 0).fillna(0)\n",
    "shop['has_facebook'] = clean_feature(shop['facebook'], lambda x: len(x) > 0).fillna(0)\n",
    "shop['has_instagram'] = clean_feature(shop['instagram'], lambda x: len(x) > 0).fillna(0)\n",
    "shop['has_all'] = shop['has_website'] & shop['has_line'] & shop['has_facebook'] & shop['has_instagram']"
   ]
  },
  {
   "cell_type": "code",
   "execution_count": 127,
   "metadata": {},
   "outputs": [
    {
     "data": {
      "text/plain": [
       "<matplotlib.axes._subplots.AxesSubplot at 0x1272d40f0>"
      ]
     },
     "execution_count": 127,
     "metadata": {},
     "output_type": "execute_result"
    },
    {
     "data": {
      "image/png": "[encoded data removed]",
      "text/plain": [
       "<Figure size 432x288 with 1 Axes>"
      ]
     },
     "metadata": {
      "needs_background": "light"
     },
     "output_type": "display_data"
    }
   ],
   "source": [
    "shop[['has_website', 'has_line','has_facebook', 'has_instagram', 'has_all']] \\\n",
    "    .agg(['sum','count']) \\\n",
    "    .transpose() \\\n",
    "    .plot(kind='bar') "
   ]
  },
  {
   "cell_type": "code",
   "execution_count": 128,
   "metadata": {},
   "outputs": [
    {
     "data": {
      "text/plain": [
       "<matplotlib.axes._subplots.AxesSubplot at 0x127333550>"
      ]
     },
     "execution_count": 128,
     "metadata": {},
     "output_type": "execute_result"
    },
    {
     "data": {
      "image/png": "[encoded data removed]",
      "text/plain": [
       "<Figure size 432x288 with 1 Axes>"
      ]
     },
     "metadata": {
      "needs_background": "light"
     },
     "output_type": "display_data"
    }
   ],
   "source": [
    "shop.plot(x = 'shop_price_from', y = 'shop_price_to', kind='scatter', alpha = 0.01)\n",
    "# We could play wiht this features\n",
    "# 1. Range of price. (higher= more diverse o.0)\n",
    "# 2. Avg of price. (Higher price = more luxury)\n",
    "# 3. Price_from lowest (for budget member)"
   ]
  },
  {
   "cell_type": "code",
   "execution_count": 130,
   "metadata": {},
   "outputs": [],
   "source": [
    "# TODO: check on worktime and lastorder"
   ]
  }
 ],
 "metadata": {
  "kernelspec": {
   "display_name": "Python 3",
   "language": "python",
   "name": "python3"
  },
  "language_info": {
   "codemirror_mode": {
    "name": "ipython",
    "version": 3
   },
   "file_extension": ".py",
   "mimetype": "text/x-python",
   "name": "python",
   "nbconvert_exporter": "python",
   "pygments_lexer": "ipython3",
   "version": "3.7.3"
  }
 },
 "nbformat": 4,
 "nbformat_minor": 2
}
