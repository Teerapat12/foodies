{
 "cells": [
  {
   "cell_type": "markdown",
   "metadata": {},
   "source": [
    "# Data Quality Exploration\n",
    "---\n",
    "\n",
    "In this notebooks, we will explore the data we have in foodies and recognize which features is useful but are not currently available to us."
   ]
  },
  {
   "cell_type": "code",
   "execution_count": 43,
   "metadata": {},
   "outputs": [],
   "source": [
    "import pandas as pd\n",
    "from utils import FoodiesData"
   ]
  },
  {
   "cell_type": "code",
   "execution_count": 2,
   "metadata": {},
   "outputs": [
    {
     "name": "stdout",
     "output_type": "stream",
     "text": [
      "admin's shape: (1, 6)\n",
      "cover's shape: (4, 7)\n",
      "district's shape: (929, 9)\n",
      "food_nationality's shape: (50, 10)\n",
      "food_type's shape: (43, 10)\n",
      "member's shape: (23, 21)\n",
      "member_address's shape: (2, 17)\n",
      "member_follow's shape: (2, 2)\n",
      "member_like's shape: (0, 2)\n",
      "photo_group's shape: (3, 9)\n",
      "province's shape: (78, 8)\n",
      "review's shape: (52, 7)\n",
      "review_shop's shape: (77, 13)\n",
      "review_shop_like's shape: (24, 2)\n",
      "review_shop_photo's shape: (22, 10)\n",
      "review_shop_photo_comment's shape: (26, 7)\n",
      "review_shop_photo_comment_like's shape: (3, 2)\n",
      "review_shop_photo_like's shape: (2, 2)\n",
      "shop's shape: (65041, 34)\n",
      "shop_follow's shape: (1, 2)\n",
      "shop_food_nationality's shape: (135, 2)\n",
      "shop_food_type's shape: (195, 2)\n",
      "shop_for's shape: (7, 9)\n",
      "shop_location's shape: (68, 10)\n",
      "shop_pay's shape: (3, 9)\n",
      "shop_price's shape: (4, 9)\n",
      "shop_service's shape: (14, 9)\n",
      "shop_shop_for's shape: (168, 2)\n",
      "shop_shop_location's shape: (101, 2)\n",
      "shop_shop_pay's shape: (85, 2)\n",
      "shop_shop_service's shape: (136, 2)\n",
      "shop_shop_type's shape: (117, 2)\n",
      "shop_type's shape: (23, 9)\n",
      "sub_district's shape: (7364, 9)\n"
     ]
    },
    {
     "name": "stderr",
     "output_type": "stream",
     "text": [
      "C:\\Users\\time_\\AppData\\Local\\Continuum\\anaconda3\\lib\\site-packages\\ipykernel_launcher.py:1: DtypeWarning: Columns (1,2,4,5,12,13,19,25,28) have mixed types. Specify dtype option on import or set low_memory=False.\n",
      "  \"\"\"Entry point for launching an IPython kernel.\n"
     ]
    }
   ],
   "source": [
    "data = FoodiesData(\"data\")\n",
    "data.summary()"
   ]
  },
  {
   "cell_type": "markdown",
   "metadata": {},
   "source": [
    "## From the summary, we realized that\n",
    "\n",
    "- There are not so many feedback from user yet. These includes table such as \n",
    "    - Reviews\n",
    "    - shop_follow\n",
    "- Only shop table contains all the data of shops. Other table doesn't have rows that is more than 10K yet.\n",
    "    - shop_sshop_for\n",
    "    - shop_shop_location\n",
    "    - shop_shop_pay\n",
    "    - shop_shop_service\n",
    "    - shop_shop_type"
   ]
  },
  {
   "cell_type": "markdown",
   "metadata": {},
   "source": [
    "## Let's look at shop which has the most rows and looks the most valid."
   ]
  },
  {
   "cell_type": "code",
   "execution_count": 4,
   "metadata": {},
   "outputs": [
    {
     "name": "stdout",
     "output_type": "stream",
     "text": [
      "Index(['id', 'logo', 'cover', 'name', 'branch', 'description', 'tel',\n",
      "       'website', 'line', 'facebook', 'instagram', 'address_no', 'no_room',\n",
      "       'no_floor', 'address_soi', 'address_road', 'sub_district_id',\n",
      "       'district_id', 'province_id', 'postal_code', 'lat', 'lng',\n",
      "       'shop_price_from', 'shop_price_to', 'has_carpark', 'landmark',\n",
      "       'worktime', 'last_order', 'holiday', 'status', 'created_on',\n",
      "       'created_by', 'updated_on', 'updated_by'],\n",
      "      dtype='object')\n"
     ]
    }
   ],
   "source": [
    "shop = data.dfs[\"shop\"]\n",
    "print(shop.columns)"
   ]
  },
  {
   "cell_type": "markdown",
   "metadata": {},
   "source": [
    "### Investigate NULL\n",
    "\n",
    "from the code below, we see that these are the columns which more than 90% are nulls. \n",
    "Some field that can be valueable to categorize shops: description, branch (see how many branches they have), no_floor (categorized for luxury restaurant), postal_code for location grouping, holiday"
   ]
  },
  {
   "cell_type": "code",
   "execution_count": 48,
   "metadata": {},
   "outputs": [
    {
     "data": {
      "text/plain": [
       "logo           0.999370\n",
       "cover          0.999370\n",
       "branch         0.999370\n",
       "description    0.999370\n",
       "no_room        0.999370\n",
       "no_floor       0.999370\n",
       "landmark       0.999754\n",
       "holiday        0.999477\n",
       "dtype: float64"
      ]
     },
     "execution_count": 48,
     "metadata": {},
     "output_type": "execute_result"
    }
   ],
   "source": [
    "null_count = shop.isnull().mean()\n",
    "null_count[null_count>0.99]"
   ]
  },
  {
   "cell_type": "code",
   "execution_count": 20,
   "metadata": {},
   "outputs": [
    {
     "name": "stdout",
     "output_type": "stream",
     "text": [
      "Shop Description    36\n",
      "wafs                 1\n",
      "ward                 1\n",
      "shooopim             1\n",
      "wae                  1\n",
      "wqed                 1\n",
      "Name: description, dtype: int64\n",
      "Shop Branch    36\n",
      "qwrd            1\n",
      "wafs            1\n",
      "shooopim        1\n",
      "wae             1\n",
      "wqed            1\n",
      "Name: branch, dtype: int64\n"
     ]
    }
   ],
   "source": [
    "# Let's look at description and branch that aren't empty\n",
    "print(shop.description.value_counts())\n",
    "print(shop.branch.value_counts())\n",
    "\n",
    "# These also appears to be mock data from each restaurant."
   ]
  },
  {
   "cell_type": "code",
   "execution_count": 34,
   "metadata": {},
   "outputs": [
    {
     "data": {
      "text/plain": [
       "(55293,)"
      ]
     },
     "execution_count": 34,
     "metadata": {},
     "output_type": "execute_result"
    }
   ],
   "source": [
    "unique_name"
   ]
  },
  {
   "cell_type": "markdown",
   "metadata": {},
   "source": [
    "## Names appear to be usable"
   ]
  },
  {
   "cell_type": "code",
   "execution_count": 51,
   "metadata": {},
   "outputs": [
    {
     "name": "stdout",
     "output_type": "stream",
     "text": [
      "0                   Akimitsu Tendon Rayong (อาคิมิซุ)\n",
      "1                                     โอชิเน พิษณุโลก\n",
      "2                                      Isao (อิซาโอะ)\n",
      "3               Sushi Mori (ซูชิ โมริ) Sathorn Square\n",
      "4           Bankara Ramen (บังคาระ ราเมง) สุขุมวิท 39\n",
      "5             UMENOHANA (อุเมะโนะฮานะ) นิฮอนมูระมอลล์\n",
      "6                     Katsushin (かつ真) (คัทสึชิน) สีลม\n",
      "7                      Sushi Masa (ซูชิ มาสะ) ราชเทวี\n",
      "8                 Fillets (ฟิลเล) The Portico หลังสวน\n",
      "9    Rising Yakiniku Buffet (ไรซิ่ง ยาคินิคุ บุฟเฟต์)\n",
      "Name: name, dtype: object\n"
     ]
    },
    {
     "data": {
      "text/plain": [
       "(55293,)"
      ]
     },
     "execution_count": 51,
     "metadata": {},
     "output_type": "execute_result"
    }
   ],
   "source": [
    "print(shop.name[:10])\n",
    "shop.name.unique().shape"
   ]
  },
  {
   "cell_type": "code",
   "execution_count": 60,
   "metadata": {},
   "outputs": [
    {
     "name": "stdout",
     "output_type": "stream",
     "text": [
      "Soi valid count: 11679\n",
      "Road valid count: 24616\n"
     ]
    }
   ],
   "source": [
    "# Soi and Road is usable about quarter and half of the data. But isn't no useful as we have lat lng already. \n",
    "print(\"Soi valid count: %s\"%shop.address_soi[shop.address_soi.notnull()].shape)\n",
    "print(\"Road valid count: %s\"%shop.address_soi[shop.address_road.notnull()].shape)"
   ]
  },
  {
   "cell_type": "markdown",
   "metadata": {},
   "source": [
    "## Validate lat lng"
   ]
  },
  {
   "cell_type": "code",
   "execution_count": 83,
   "metadata": {},
   "outputs": [
    {
     "data": {
      "text/plain": [
       "(56861, 3)"
      ]
     },
     "execution_count": 83,
     "metadata": {},
     "output_type": "execute_result"
    }
   ],
   "source": [
    "# Seems to be similar to unique_shop_name\n",
    "valid_latlng = shop[['lat','lng', 'name']][shop.lat> 0]\n",
    "valid_latlng.shape"
   ]
  },
  {
   "cell_type": "code",
   "execution_count": 84,
   "metadata": {},
   "outputs": [],
   "source": [
    "valid_latlng[\"position\"] = valid_latlng.lat.astype(str) + \"-\" + valid_latlng.lng.astype(str)"
   ]
  },
  {
   "cell_type": "code",
   "execution_count": 90,
   "metadata": {},
   "outputs": [
    {
     "data": {
      "text/plain": [
       "13.733662099999998-100.4705742          36\n",
       "12.939362-100.884257                    34\n",
       "12.0-101.0                              14\n",
       "16.84089591-100.2323637                 10\n",
       "18.7825795-99.00077469999997             8\n",
       "18.77254-98.999634                       8\n",
       "13.89831844669952-100.54535481473248     7\n",
       "13.879943689831-100.40464851013999       7\n",
       "13.58435362-100.6071177                  6\n",
       "18.7995452958815-98.96882968220905       6\n",
       "Name: position, dtype: int64"
      ]
     },
     "execution_count": 90,
     "metadata": {},
     "output_type": "execute_result"
    }
   ],
   "source": [
    "# Latitude, Longtitude also looks nice. There are some duplication but not that much compare to data. Assuming that it might be restaurant from same Mall, Landmark, etc.\n",
    "valid_latlng[\"position\"].value_counts().head(10)"
   ]
  },
  {
   "cell_type": "markdown",
   "metadata": {},
   "source": [
    "## Landmark column doesn't have feature yet but could be valuable"
   ]
  },
  {
   "cell_type": "code",
   "execution_count": 96,
   "metadata": {},
   "outputs": [
    {
     "data": {
      "text/plain": [
       "ใกล้ปั๊มน้ำมัน    12\n",
       "333                1\n",
       "shooopim           1\n",
       "wqed               1\n",
       "32r                1\n",
       "Name: landmark, dtype: int64"
      ]
     },
     "execution_count": 96,
     "metadata": {},
     "output_type": "execute_result"
    }
   ],
   "source": [
    "shop.landmark.value_counts()"
   ]
  },
  {
   "cell_type": "code",
   "execution_count": null,
   "metadata": {},
   "outputs": [],
   "source": []
  }
 ],
 "metadata": {
  "kernelspec": {
   "display_name": "Python 3",
   "language": "python",
   "name": "python3"
  },
  "language_info": {
   "codemirror_mode": {
    "name": "ipython",
    "version": 3
   },
   "file_extension": ".py",
   "mimetype": "text/x-python",
   "name": "python",
   "nbconvert_exporter": "python",
   "pygments_lexer": "ipython3",
   "version": "3.6.5"
  }
 },
 "nbformat": 4,
 "nbformat_minor": 2
}
