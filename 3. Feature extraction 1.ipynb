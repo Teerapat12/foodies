{
 "cells": [
  {
   "cell_type": "markdown",
   "metadata": {},
   "source": [
    "# Foodies Shop feature extraction \n",
    "\n",
    "---\n",
    "\n",
    "In this notebook we try to extract data from table `shop`"
   ]
  },
  {
   "cell_type": "code",
   "execution_count": 252,
   "metadata": {},
   "outputs": [],
   "source": [
    "%matplotlib inline\n",
    "from utils import read_csv\n",
    "import pandas as pd"
   ]
  },
  {
   "cell_type": "code",
   "execution_count": 253,
   "metadata": {},
   "outputs": [],
   "source": [
    "shop = read_csv(\"shop\")"
   ]
  },
  {
   "cell_type": "code",
   "execution_count": 254,
   "metadata": {},
   "outputs": [
    {
     "data": {
      "text/html": [
       "<div>\n",
       "<style scoped>\n",
       "    .dataframe tbody tr th:only-of-type {\n",
       "        vertical-align: middle;\n",
       "    }\n",
       "\n",
       "    .dataframe tbody tr th {\n",
       "        vertical-align: top;\n",
       "    }\n",
       "\n",
       "    .dataframe thead th {\n",
       "        text-align: right;\n",
       "    }\n",
       "</style>\n",
       "<table border=\"1\" class=\"dataframe\">\n",
       "  <thead>\n",
       "    <tr style=\"text-align: right;\">\n",
       "      <th></th>\n",
       "      <th>id</th>\n",
       "      <th>logo</th>\n",
       "      <th>cover</th>\n",
       "      <th>name</th>\n",
       "      <th>branch</th>\n",
       "      <th>description</th>\n",
       "      <th>tel</th>\n",
       "      <th>website</th>\n",
       "      <th>line</th>\n",
       "      <th>facebook</th>\n",
       "      <th>...</th>\n",
       "      <th>has_carpark</th>\n",
       "      <th>landmark</th>\n",
       "      <th>worktime</th>\n",
       "      <th>last_order</th>\n",
       "      <th>holiday</th>\n",
       "      <th>status</th>\n",
       "      <th>created_on</th>\n",
       "      <th>created_by</th>\n",
       "      <th>updated_on</th>\n",
       "      <th>updated_by</th>\n",
       "    </tr>\n",
       "  </thead>\n",
       "  <tbody>\n",
       "    <tr>\n",
       "      <th>0</th>\n",
       "      <td>1</td>\n",
       "      <td>NaN</td>\n",
       "      <td>NaN</td>\n",
       "      <td>Akimitsu Tendon Rayong (อาคิมิซุ)</td>\n",
       "      <td>NaN</td>\n",
       "      <td>NaN</td>\n",
       "      <td>038017585</td>\n",
       "      <td>NaN</td>\n",
       "      <td>NaN</td>\n",
       "      <td>https://www.facebook.com/akimitsurayong/</td>\n",
       "      <td>...</td>\n",
       "      <td>F</td>\n",
       "      <td>NaN</td>\n",
       "      <td>[{\"day\": \"จันทร์\", \"checked\": true, \"time\": [{...</td>\n",
       "      <td>0</td>\n",
       "      <td>NaN</td>\n",
       "      <td>Y</td>\n",
       "      <td>0000-00-00 00:00:00</td>\n",
       "      <td>0</td>\n",
       "      <td>2019-06-05 17:21:50</td>\n",
       "      <td>0</td>\n",
       "    </tr>\n",
       "    <tr>\n",
       "      <th>1</th>\n",
       "      <td>2</td>\n",
       "      <td>NaN</td>\n",
       "      <td>NaN</td>\n",
       "      <td>โอชิเน พิษณุโลก</td>\n",
       "      <td>NaN</td>\n",
       "      <td>NaN</td>\n",
       "      <td>055001324, 0932172828</td>\n",
       "      <td>NaN</td>\n",
       "      <td>http://line.naver.jp/ti/p/oshineiphitsanulok</td>\n",
       "      <td>https://m.facebook.com/OshineiPhitsanulok/</td>\n",
       "      <td>...</td>\n",
       "      <td>F</td>\n",
       "      <td>NaN</td>\n",
       "      <td>[{\"day\": \"จันทร์\", \"checked\": true, \"time\": [{...</td>\n",
       "      <td>0</td>\n",
       "      <td>NaN</td>\n",
       "      <td>Y</td>\n",
       "      <td>0000-00-00 00:00:00</td>\n",
       "      <td>0</td>\n",
       "      <td>2019-06-05 17:21:50</td>\n",
       "      <td>0</td>\n",
       "    </tr>\n",
       "    <tr>\n",
       "      <th>2</th>\n",
       "      <td>3</td>\n",
       "      <td>NaN</td>\n",
       "      <td>NaN</td>\n",
       "      <td>Isao (อิซาโอะ)</td>\n",
       "      <td>NaN</td>\n",
       "      <td>NaN</td>\n",
       "      <td>0956614564,0941981942,022580645</td>\n",
       "      <td>https://www.isaotaste.com/</td>\n",
       "      <td>http://line.naver.jp/ti/p/@isaobkk</td>\n",
       "      <td>https://www.facebook.com/isaobkk</td>\n",
       "      <td>...</td>\n",
       "      <td>F</td>\n",
       "      <td>NaN</td>\n",
       "      <td>[{\"day\": \"จันทร์\", \"checked\": true, \"time\": [{...</td>\n",
       "      <td>0</td>\n",
       "      <td>NaN</td>\n",
       "      <td>Y</td>\n",
       "      <td>0000-00-00 00:00:00</td>\n",
       "      <td>0</td>\n",
       "      <td>2019-06-05 17:21:50</td>\n",
       "      <td>0</td>\n",
       "    </tr>\n",
       "    <tr>\n",
       "      <th>3</th>\n",
       "      <td>4</td>\n",
       "      <td>NaN</td>\n",
       "      <td>NaN</td>\n",
       "      <td>Sushi Mori (ซูชิ โมริ) Sathorn Square</td>\n",
       "      <td>NaN</td>\n",
       "      <td>NaN</td>\n",
       "      <td>092-424-4040</td>\n",
       "      <td>NaN</td>\n",
       "      <td>http://line.naver.jp/ti/p/@aax7413r</td>\n",
       "      <td>NaN</td>\n",
       "      <td>...</td>\n",
       "      <td>F</td>\n",
       "      <td>NaN</td>\n",
       "      <td>[{\"day\": \"จันทร์\", \"checked\": true, \"time\": [{...</td>\n",
       "      <td>0</td>\n",
       "      <td>NaN</td>\n",
       "      <td>Y</td>\n",
       "      <td>0000-00-00 00:00:00</td>\n",
       "      <td>0</td>\n",
       "      <td>2019-06-05 17:21:50</td>\n",
       "      <td>0</td>\n",
       "    </tr>\n",
       "    <tr>\n",
       "      <th>4</th>\n",
       "      <td>5</td>\n",
       "      <td>NaN</td>\n",
       "      <td>NaN</td>\n",
       "      <td>Bankara Ramen (บังคาระ ราเมง) สุขุมวิท 39</td>\n",
       "      <td>NaN</td>\n",
       "      <td>NaN</td>\n",
       "      <td>02-662-5162,02-662-5161</td>\n",
       "      <td>https://www.facebook.com/pages/Bankara-Ramen/1...</td>\n",
       "      <td>NaN</td>\n",
       "      <td>https://www.facebook.com/BankaraRamen?fref=ts</td>\n",
       "      <td>...</td>\n",
       "      <td>F</td>\n",
       "      <td>NaN</td>\n",
       "      <td>[{\"day\": \"จันทร์\", \"checked\": true, \"time\": [{...</td>\n",
       "      <td>0</td>\n",
       "      <td>NaN</td>\n",
       "      <td>Y</td>\n",
       "      <td>0000-00-00 00:00:00</td>\n",
       "      <td>0</td>\n",
       "      <td>2019-06-05 17:21:50</td>\n",
       "      <td>0</td>\n",
       "    </tr>\n",
       "  </tbody>\n",
       "</table>\n",
       "<p>5 rows × 34 columns</p>\n",
       "</div>"
      ],
      "text/plain": [
       "   id logo cover                                       name branch  \\\n",
       "0   1  NaN   NaN          Akimitsu Tendon Rayong (อาคิมิซุ)    NaN   \n",
       "1   2  NaN   NaN                            โอชิเน พิษณุโลก    NaN   \n",
       "2   3  NaN   NaN                             Isao (อิซาโอะ)    NaN   \n",
       "3   4  NaN   NaN      Sushi Mori (ซูชิ โมริ) Sathorn Square    NaN   \n",
       "4   5  NaN   NaN  Bankara Ramen (บังคาระ ราเมง) สุขุมวิท 39    NaN   \n",
       "\n",
       "  description                              tel  \\\n",
       "0         NaN                        038017585   \n",
       "1         NaN            055001324, 0932172828   \n",
       "2         NaN  0956614564,0941981942,022580645   \n",
       "3         NaN                     092-424-4040   \n",
       "4         NaN          02-662-5162,02-662-5161   \n",
       "\n",
       "                                             website  \\\n",
       "0                                                NaN   \n",
       "1                                                NaN   \n",
       "2                         https://www.isaotaste.com/   \n",
       "3                                                NaN   \n",
       "4  https://www.facebook.com/pages/Bankara-Ramen/1...   \n",
       "\n",
       "                                           line  \\\n",
       "0                                           NaN   \n",
       "1  http://line.naver.jp/ti/p/oshineiphitsanulok   \n",
       "2            http://line.naver.jp/ti/p/@isaobkk   \n",
       "3           http://line.naver.jp/ti/p/@aax7413r   \n",
       "4                                           NaN   \n",
       "\n",
       "                                        facebook  ... has_carpark landmark  \\\n",
       "0       https://www.facebook.com/akimitsurayong/  ...           F      NaN   \n",
       "1     https://m.facebook.com/OshineiPhitsanulok/  ...           F      NaN   \n",
       "2               https://www.facebook.com/isaobkk  ...           F      NaN   \n",
       "3                                            NaN  ...           F      NaN   \n",
       "4  https://www.facebook.com/BankaraRamen?fref=ts  ...           F      NaN   \n",
       "\n",
       "                                            worktime last_order holiday  \\\n",
       "0  [{\"day\": \"จันทร์\", \"checked\": true, \"time\": [{...          0     NaN   \n",
       "1  [{\"day\": \"จันทร์\", \"checked\": true, \"time\": [{...          0     NaN   \n",
       "2  [{\"day\": \"จันทร์\", \"checked\": true, \"time\": [{...          0     NaN   \n",
       "3  [{\"day\": \"จันทร์\", \"checked\": true, \"time\": [{...          0     NaN   \n",
       "4  [{\"day\": \"จันทร์\", \"checked\": true, \"time\": [{...          0     NaN   \n",
       "\n",
       "  status           created_on  created_by           updated_on updated_by  \n",
       "0      Y  0000-00-00 00:00:00           0  2019-06-05 17:21:50          0  \n",
       "1      Y  0000-00-00 00:00:00           0  2019-06-05 17:21:50          0  \n",
       "2      Y  0000-00-00 00:00:00           0  2019-06-05 17:21:50          0  \n",
       "3      Y  0000-00-00 00:00:00           0  2019-06-05 17:21:50          0  \n",
       "4      Y  0000-00-00 00:00:00           0  2019-06-05 17:21:50          0  \n",
       "\n",
       "[5 rows x 34 columns]"
      ]
     },
     "execution_count": 254,
     "metadata": {},
     "output_type": "execute_result"
    }
   ],
   "source": [
    "shop.head()"
   ]
  },
  {
   "cell_type": "markdown",
   "metadata": {},
   "source": [
    "## Clean mock"
   ]
  },
  {
   "cell_type": "code",
   "execution_count": 255,
   "metadata": {},
   "outputs": [],
   "source": [
    "def clean_mock(df):\n",
    "    df = df[df[\"name\"]!=\"Shop Name\"]\n",
    "    df = df[df[\"shop_price_from\"]!=0]\n",
    "    return df"
   ]
  },
  {
   "cell_type": "code",
   "execution_count": 256,
   "metadata": {},
   "outputs": [
    {
     "name": "stdout",
     "output_type": "stream",
     "text": [
      "Before clean (65040, 34)\n",
      "After (61478, 34)\n"
     ]
    }
   ],
   "source": [
    "print(\"Before clean\", shop.shape)\n",
    "shop = clean_mock(shop)\n",
    "print(\"After\", shop.shape)"
   ]
  },
  {
   "cell_type": "markdown",
   "metadata": {},
   "source": [
    "## Telephone count"
   ]
  },
  {
   "cell_type": "code",
   "execution_count": 257,
   "metadata": {},
   "outputs": [
    {
     "data": {
      "text/plain": [
       "5.0        1\n",
       "4.0      154\n",
       "3.0     1527\n",
       "2.0     8249\n",
       "1.0    28747\n",
       "Name: tel_count, dtype: int64"
      ]
     },
     "execution_count": 257,
     "metadata": {},
     "output_type": "execute_result"
    }
   ],
   "source": [
    "shop['tel_count'] = shop.tel.dropna().apply(lambda x: len(x.split(\",\"))).fillna(0)\n",
    "shop['tel_count'].value_counts().sort_values()"
   ]
  },
  {
   "cell_type": "markdown",
   "metadata": {},
   "source": [
    "## Means of contact"
   ]
  },
  {
   "cell_type": "code",
   "execution_count": 258,
   "metadata": {},
   "outputs": [],
   "source": [
    "def clean_feature(col, condition, default = False):\n",
    "    return col.apply(lambda x: condition(x) if(not pd.isnull(x)) else x).fillna(default)\n",
    "\n",
    "shop['has_website'] = clean_feature(shop['website'], lambda x: x.find(\"http\") == 0)\n",
    "shop['has_line'] = clean_feature(shop['line'], lambda x: len(x) > 0).fillna(0)\n",
    "shop['has_facebook'] = clean_feature(shop['facebook'], lambda x: len(x) > 0).fillna(0)\n",
    "shop['has_instagram'] = clean_feature(shop['instagram'], lambda x: len(x) > 0).fillna(0)\n",
    "shop['has_all'] = shop['has_website'] & shop['has_line'] & shop['has_facebook'] & shop['has_instagram']"
   ]
  },
  {
   "cell_type": "markdown",
   "metadata": {},
   "source": [
    "## Work time"
   ]
  },
  {
   "cell_type": "code",
   "execution_count": 259,
   "metadata": {},
   "outputs": [],
   "source": [
    "def clean_worktime(s):\n",
    "    stop_word = [\"true\", \"false\"]\n",
    "    for x in stop_word:\n",
    "        s = s.replace(x, \"\\\"\" + x + \"\\\"\")\n",
    "    return s\n",
    "    \n",
    "\n",
    "shop['open_period_count'] = shop.worktime.fillna(\"[]\").apply(clean_worktime).apply(eval).apply(len)"
   ]
  },
  {
   "cell_type": "markdown",
   "metadata": {},
   "source": [
    "## Price"
   ]
  },
  {
   "cell_type": "code",
   "execution_count": 260,
   "metadata": {},
   "outputs": [
    {
     "data": {
      "text/html": [
       "<div>\n",
       "<style scoped>\n",
       "    .dataframe tbody tr th:only-of-type {\n",
       "        vertical-align: middle;\n",
       "    }\n",
       "\n",
       "    .dataframe tbody tr th {\n",
       "        vertical-align: top;\n",
       "    }\n",
       "\n",
       "    .dataframe thead th {\n",
       "        text-align: right;\n",
       "    }\n",
       "</style>\n",
       "<table border=\"1\" class=\"dataframe\">\n",
       "  <thead>\n",
       "    <tr style=\"text-align: right;\">\n",
       "      <th></th>\n",
       "      <th>shop_price_from</th>\n",
       "      <th>shop_price_to</th>\n",
       "    </tr>\n",
       "  </thead>\n",
       "  <tbody>\n",
       "    <tr>\n",
       "      <th>0</th>\n",
       "      <td>101</td>\n",
       "      <td>250</td>\n",
       "    </tr>\n",
       "    <tr>\n",
       "      <th>1</th>\n",
       "      <td>251</td>\n",
       "      <td>500</td>\n",
       "    </tr>\n",
       "    <tr>\n",
       "      <th>2</th>\n",
       "      <td>251</td>\n",
       "      <td>500</td>\n",
       "    </tr>\n",
       "    <tr>\n",
       "      <th>3</th>\n",
       "      <td>1000</td>\n",
       "      <td>3000</td>\n",
       "    </tr>\n",
       "    <tr>\n",
       "      <th>4</th>\n",
       "      <td>251</td>\n",
       "      <td>500</td>\n",
       "    </tr>\n",
       "  </tbody>\n",
       "</table>\n",
       "</div>"
      ],
      "text/plain": [
       "   shop_price_from  shop_price_to\n",
       "0              101            250\n",
       "1              251            500\n",
       "2              251            500\n",
       "3             1000           3000\n",
       "4              251            500"
      ]
     },
     "execution_count": 260,
     "metadata": {},
     "output_type": "execute_result"
    }
   ],
   "source": [
    "shop[['shop_price_from', 'shop_price_to']].head()"
   ]
  },
  {
   "cell_type": "code",
   "execution_count": 261,
   "metadata": {},
   "outputs": [],
   "source": [
    "import numpy as np\n",
    "shop['shop_price'] = shop.shop_price_from.apply(str) + \"-\" + shop.shop_price_to.apply(str)\n",
    "shop['shop_average_price'] = ((shop.shop_price_from + shop.shop_price_to) / 2) + 1 # Hack for log\n",
    "shop['shop_average_log_price'] = np.log(shop.shop_average_price)"
   ]
  },
  {
   "cell_type": "markdown",
   "metadata": {},
   "source": [
    "## Is shop in popular location"
   ]
  },
  {
   "cell_type": "code",
   "execution_count": 262,
   "metadata": {},
   "outputs": [],
   "source": [
    "from sklearn.cluster import KMeans"
   ]
  },
  {
   "cell_type": "code",
   "execution_count": 263,
   "metadata": {},
   "outputs": [],
   "source": [
    "positions = shop[['lat','lng']].dropna()"
   ]
  },
  {
   "cell_type": "code",
   "execution_count": 264,
   "metadata": {},
   "outputs": [],
   "source": [
    "kmeans = KMeans(n_clusters=100, random_state=0).fit(positions)"
   ]
  },
  {
   "cell_type": "code",
   "execution_count": 266,
   "metadata": {},
   "outputs": [],
   "source": [
    "shop['kmeans'] = kmeans.predict(shop[['lat','lng']].fillna(0))\n",
    "\n",
    "count_map = shop['kmeans'].value_counts().to_dict()\n",
    "shop['near_shop_counts'] = shop['kmeans'].apply(lambda x: count_map[x])\n",
    "shop['near_shop_counts_log'] = np.log(shop['near_shop_counts'])"
   ]
  },
  {
   "cell_type": "code",
   "execution_count": 267,
   "metadata": {},
   "outputs": [
    {
     "data": {
      "text/plain": [
       "<matplotlib.axes._subplots.AxesSubplot at 0x13559d4d0>"
      ]
     },
     "execution_count": 267,
     "metadata": {},
     "output_type": "execute_result"
    },
    {
     "data": {
      "image/png": "[encoded data removed]",
      "text/plain": [
       "<Figure size 432x288 with 1 Axes>"
      ]
     },
     "metadata": {
      "needs_background": "light"
     },
     "output_type": "display_data"
    }
   ],
   "source": [
    "# How it would look like.\n",
    "import seaborn as sb\n",
    "sb.scatterplot(shop.lat, shop.lng,hue =shop.kmeans)"
   ]
  },
  {
   "cell_type": "markdown",
   "metadata": {},
   "source": [
    "## Carpar"
   ]
  },
  {
   "cell_type": "code",
   "execution_count": 268,
   "metadata": {},
   "outputs": [],
   "source": [
    "shop['has_carpark_i'] = shop['has_carpark'].apply(lambda x: x!=\"F\")"
   ]
  },
  {
   "cell_type": "markdown",
   "metadata": {},
   "source": [
    "## Description NLP\n",
    "\n",
    "--- \n",
    "\n",
    "has lot of potential. For now going to just use the length of description"
   ]
  },
  {
   "cell_type": "code",
   "execution_count": 269,
   "metadata": {},
   "outputs": [],
   "source": [
    "shop['description_length'] = shop.description.fillna(\"\").apply(len)"
   ]
  },
  {
   "cell_type": "markdown",
   "metadata": {},
   "source": [
    "## Collecting all features"
   ]
  },
  {
   "cell_type": "code",
   "execution_count": 270,
   "metadata": {},
   "outputs": [],
   "source": [
    "features = [\n",
    "    \"tel_count\",\n",
    "    'has_website',\n",
    "    'has_line',\n",
    "    'has_facebook',\n",
    "    'has_instagram',\n",
    "    'has_all',\n",
    "    'has_carpark_i', # has = better\n",
    "    'open_period_count',\n",
    "    'near_shop_counts_log',\n",
    "    \"description_length\",\n",
    "    'shop_average_log_price',\n",
    "]\n",
    "\n",
    "selected_features = shop[features].fillna(0)"
   ]
  },
  {
   "cell_type": "code",
   "execution_count": 271,
   "metadata": {},
   "outputs": [
    {
     "data": {
      "text/html": [
       "<div>\n",
       "<style scoped>\n",
       "    .dataframe tbody tr th:only-of-type {\n",
       "        vertical-align: middle;\n",
       "    }\n",
       "\n",
       "    .dataframe tbody tr th {\n",
       "        vertical-align: top;\n",
       "    }\n",
       "\n",
       "    .dataframe thead th {\n",
       "        text-align: right;\n",
       "    }\n",
       "</style>\n",
       "<table border=\"1\" class=\"dataframe\">\n",
       "  <thead>\n",
       "    <tr style=\"text-align: right;\">\n",
       "      <th></th>\n",
       "      <th>tel_count</th>\n",
       "      <th>has_website</th>\n",
       "      <th>has_line</th>\n",
       "      <th>has_facebook</th>\n",
       "      <th>has_instagram</th>\n",
       "      <th>has_all</th>\n",
       "      <th>has_carpark_i</th>\n",
       "      <th>open_period_count</th>\n",
       "      <th>near_shop_counts_log</th>\n",
       "      <th>description_length</th>\n",
       "      <th>shop_average_log_price</th>\n",
       "    </tr>\n",
       "  </thead>\n",
       "  <tbody>\n",
       "    <tr>\n",
       "      <th>0</th>\n",
       "      <td>1.0</td>\n",
       "      <td>False</td>\n",
       "      <td>False</td>\n",
       "      <td>True</td>\n",
       "      <td>False</td>\n",
       "      <td>False</td>\n",
       "      <td>False</td>\n",
       "      <td>7</td>\n",
       "      <td>8.910856</td>\n",
       "      <td>0</td>\n",
       "      <td>5.173321</td>\n",
       "    </tr>\n",
       "    <tr>\n",
       "      <th>1</th>\n",
       "      <td>2.0</td>\n",
       "      <td>False</td>\n",
       "      <td>True</td>\n",
       "      <td>True</td>\n",
       "      <td>False</td>\n",
       "      <td>False</td>\n",
       "      <td>False</td>\n",
       "      <td>7</td>\n",
       "      <td>7.349874</td>\n",
       "      <td>0</td>\n",
       "      <td>5.930918</td>\n",
       "    </tr>\n",
       "    <tr>\n",
       "      <th>2</th>\n",
       "      <td>3.0</td>\n",
       "      <td>True</td>\n",
       "      <td>True</td>\n",
       "      <td>True</td>\n",
       "      <td>True</td>\n",
       "      <td>True</td>\n",
       "      <td>False</td>\n",
       "      <td>7</td>\n",
       "      <td>9.867860</td>\n",
       "      <td>0</td>\n",
       "      <td>5.930918</td>\n",
       "    </tr>\n",
       "    <tr>\n",
       "      <th>3</th>\n",
       "      <td>1.0</td>\n",
       "      <td>False</td>\n",
       "      <td>True</td>\n",
       "      <td>False</td>\n",
       "      <td>True</td>\n",
       "      <td>False</td>\n",
       "      <td>False</td>\n",
       "      <td>4</td>\n",
       "      <td>9.867860</td>\n",
       "      <td>0</td>\n",
       "      <td>7.601402</td>\n",
       "    </tr>\n",
       "    <tr>\n",
       "      <th>4</th>\n",
       "      <td>2.0</td>\n",
       "      <td>True</td>\n",
       "      <td>False</td>\n",
       "      <td>True</td>\n",
       "      <td>False</td>\n",
       "      <td>False</td>\n",
       "      <td>False</td>\n",
       "      <td>7</td>\n",
       "      <td>8.910856</td>\n",
       "      <td>0</td>\n",
       "      <td>5.930918</td>\n",
       "    </tr>\n",
       "  </tbody>\n",
       "</table>\n",
       "</div>"
      ],
      "text/plain": [
       "   tel_count  has_website  has_line  has_facebook  has_instagram  has_all  \\\n",
       "0        1.0        False     False          True          False    False   \n",
       "1        2.0        False      True          True          False    False   \n",
       "2        3.0         True      True          True           True     True   \n",
       "3        1.0        False      True         False           True    False   \n",
       "4        2.0         True     False          True          False    False   \n",
       "\n",
       "   has_carpark_i  open_period_count  near_shop_counts_log  description_length  \\\n",
       "0          False                  7              8.910856                   0   \n",
       "1          False                  7              7.349874                   0   \n",
       "2          False                  7              9.867860                   0   \n",
       "3          False                  4              9.867860                   0   \n",
       "4          False                  7              8.910856                   0   \n",
       "\n",
       "   shop_average_log_price  \n",
       "0                5.173321  \n",
       "1                5.930918  \n",
       "2                5.930918  \n",
       "3                7.601402  \n",
       "4                5.930918  "
      ]
     },
     "execution_count": 271,
     "metadata": {},
     "output_type": "execute_result"
    }
   ],
   "source": [
    "selected_features.head()"
   ]
  },
  {
   "cell_type": "markdown",
   "metadata": {},
   "source": [
    "### Convert boolean col to number"
   ]
  },
  {
   "cell_type": "code",
   "execution_count": 272,
   "metadata": {},
   "outputs": [],
   "source": [
    "bool_columns = [col for col in selected_features.columns if \"has\" in col]\n",
    "selected_features[bool_columns] = selected_features[bool_columns].astype(int)"
   ]
  },
  {
   "cell_type": "code",
   "execution_count": 273,
   "metadata": {},
   "outputs": [
    {
     "data": {
      "text/html": [
       "<div>\n",
       "<style scoped>\n",
       "    .dataframe tbody tr th:only-of-type {\n",
       "        vertical-align: middle;\n",
       "    }\n",
       "\n",
       "    .dataframe tbody tr th {\n",
       "        vertical-align: top;\n",
       "    }\n",
       "\n",
       "    .dataframe thead th {\n",
       "        text-align: right;\n",
       "    }\n",
       "</style>\n",
       "<table border=\"1\" class=\"dataframe\">\n",
       "  <thead>\n",
       "    <tr style=\"text-align: right;\">\n",
       "      <th></th>\n",
       "      <th>tel_count</th>\n",
       "      <th>has_website</th>\n",
       "      <th>has_line</th>\n",
       "      <th>has_facebook</th>\n",
       "      <th>has_instagram</th>\n",
       "      <th>has_all</th>\n",
       "      <th>has_carpark_i</th>\n",
       "      <th>open_period_count</th>\n",
       "      <th>near_shop_counts_log</th>\n",
       "      <th>description_length</th>\n",
       "      <th>shop_average_log_price</th>\n",
       "    </tr>\n",
       "  </thead>\n",
       "  <tbody>\n",
       "    <tr>\n",
       "      <th>0</th>\n",
       "      <td>1.0</td>\n",
       "      <td>0</td>\n",
       "      <td>0</td>\n",
       "      <td>1</td>\n",
       "      <td>0</td>\n",
       "      <td>0</td>\n",
       "      <td>0</td>\n",
       "      <td>7</td>\n",
       "      <td>8.910856</td>\n",
       "      <td>0</td>\n",
       "      <td>5.173321</td>\n",
       "    </tr>\n",
       "    <tr>\n",
       "      <th>1</th>\n",
       "      <td>2.0</td>\n",
       "      <td>0</td>\n",
       "      <td>1</td>\n",
       "      <td>1</td>\n",
       "      <td>0</td>\n",
       "      <td>0</td>\n",
       "      <td>0</td>\n",
       "      <td>7</td>\n",
       "      <td>7.349874</td>\n",
       "      <td>0</td>\n",
       "      <td>5.930918</td>\n",
       "    </tr>\n",
       "    <tr>\n",
       "      <th>2</th>\n",
       "      <td>3.0</td>\n",
       "      <td>1</td>\n",
       "      <td>1</td>\n",
       "      <td>1</td>\n",
       "      <td>1</td>\n",
       "      <td>1</td>\n",
       "      <td>0</td>\n",
       "      <td>7</td>\n",
       "      <td>9.867860</td>\n",
       "      <td>0</td>\n",
       "      <td>5.930918</td>\n",
       "    </tr>\n",
       "    <tr>\n",
       "      <th>3</th>\n",
       "      <td>1.0</td>\n",
       "      <td>0</td>\n",
       "      <td>1</td>\n",
       "      <td>0</td>\n",
       "      <td>1</td>\n",
       "      <td>0</td>\n",
       "      <td>0</td>\n",
       "      <td>4</td>\n",
       "      <td>9.867860</td>\n",
       "      <td>0</td>\n",
       "      <td>7.601402</td>\n",
       "    </tr>\n",
       "    <tr>\n",
       "      <th>4</th>\n",
       "      <td>2.0</td>\n",
       "      <td>1</td>\n",
       "      <td>0</td>\n",
       "      <td>1</td>\n",
       "      <td>0</td>\n",
       "      <td>0</td>\n",
       "      <td>0</td>\n",
       "      <td>7</td>\n",
       "      <td>8.910856</td>\n",
       "      <td>0</td>\n",
       "      <td>5.930918</td>\n",
       "    </tr>\n",
       "  </tbody>\n",
       "</table>\n",
       "</div>"
      ],
      "text/plain": [
       "   tel_count  has_website  has_line  has_facebook  has_instagram  has_all  \\\n",
       "0        1.0            0         0             1              0        0   \n",
       "1        2.0            0         1             1              0        0   \n",
       "2        3.0            1         1             1              1        1   \n",
       "3        1.0            0         1             0              1        0   \n",
       "4        2.0            1         0             1              0        0   \n",
       "\n",
       "   has_carpark_i  open_period_count  near_shop_counts_log  description_length  \\\n",
       "0              0                  7              8.910856                   0   \n",
       "1              0                  7              7.349874                   0   \n",
       "2              0                  7              9.867860                   0   \n",
       "3              0                  4              9.867860                   0   \n",
       "4              0                  7              8.910856                   0   \n",
       "\n",
       "   shop_average_log_price  \n",
       "0                5.173321  \n",
       "1                5.930918  \n",
       "2                5.930918  \n",
       "3                7.601402  \n",
       "4                5.930918  "
      ]
     },
     "execution_count": 273,
     "metadata": {},
     "output_type": "execute_result"
    }
   ],
   "source": [
    "selected_features.head()"
   ]
  },
  {
   "cell_type": "markdown",
   "metadata": {},
   "source": [
    "# Explore\n",
    "\n",
    "---\n",
    "\n",
    "Let's set weight for each feature and see which will go on top\n",
    "\n",
    "The intuition here is that we have no response/target for our data, then we can\n",
    "inituitively regression the linear regression model by ourselves. This is a very naive but\n",
    "good start for manually tuning the model and see difference result."
   ]
  },
  {
   "cell_type": "code",
   "execution_count": 309,
   "metadata": {},
   "outputs": [],
   "source": [
    "feature_names = selected_features.columns\n",
    "first_weight =  {\n",
    "     'tel_count': 0.3,\n",
    "     'has_website': 0.8,\n",
    "     'has_line': 0.6,\n",
    "     'has_facebook':0.4,\n",
    "     'has_instagram': 0.7,\n",
    "     'has_all': 0.3,\n",
    "     'has_carpark_i':0.9,\n",
    "     'open_period_count': 0.2,\n",
    "     'shop_average_log_price': -0.75,\n",
    "     'near_shop_counts_log': 0.03,\n",
    "     'description_length': 0.05\n",
    "}"
   ]
  },
  {
   "cell_type": "code",
   "execution_count": 313,
   "metadata": {},
   "outputs": [],
   "source": [
    "def apply_score(weights):\n",
    "    def f(row):\n",
    "        return [row[weight]*weights[weight] for weight in weights]\n",
    "    return f\n",
    "scores_summary = selected_features.apply(apply_score(first_weight), axis=1)\n",
    "selected_features['scores_breakdown'] = scores_summary\n",
    "selected_features['scores'] = scores_summary.apply(sum)"
   ]
  },
  {
   "cell_type": "code",
   "execution_count": 316,
   "metadata": {},
   "outputs": [
    {
     "data": {
      "text/plain": [
       "<matplotlib.axes._subplots.AxesSubplot at 0x1610d6dd0>"
      ]
     },
     "execution_count": 316,
     "metadata": {},
     "output_type": "execute_result"
    },
    {
     "data": {
      "image/png": "[encoded data removed]",
      "text/plain": [
       "<Figure size 432x288 with 1 Axes>"
      ]
     },
     "metadata": {
      "needs_background": "light"
     },
     "output_type": "display_data"
    }
   ],
   "source": [
    "selected_features['scores'].hist()"
   ]
  },
  {
   "cell_type": "code",
   "execution_count": 317,
   "metadata": {},
   "outputs": [
    {
     "data": {
      "text/html": [
       "<div>\n",
       "<style scoped>\n",
       "    .dataframe tbody tr th:only-of-type {\n",
       "        vertical-align: middle;\n",
       "    }\n",
       "\n",
       "    .dataframe tbody tr th {\n",
       "        vertical-align: top;\n",
       "    }\n",
       "\n",
       "    .dataframe thead th {\n",
       "        text-align: right;\n",
       "    }\n",
       "</style>\n",
       "<table border=\"1\" class=\"dataframe\">\n",
       "  <thead>\n",
       "    <tr style=\"text-align: right;\">\n",
       "      <th></th>\n",
       "      <th>name</th>\n",
       "      <th>description</th>\n",
       "      <th>website</th>\n",
       "      <th>shop_price</th>\n",
       "      <th>near_shop_counts</th>\n",
       "      <th>scores</th>\n",
       "    </tr>\n",
       "  </thead>\n",
       "  <tbody>\n",
       "    <tr>\n",
       "      <th>61292</th>\n",
       "      <td>Beach Tango Koh Chang</td>\n",
       "      <td>NaN</td>\n",
       "      <td>http://beachtangorestaurantkohchang.business.s...</td>\n",
       "      <td>101-250</td>\n",
       "      <td>7412</td>\n",
       "      <td>3.416721</td>\n",
       "    </tr>\n",
       "    <tr>\n",
       "      <th>35132</th>\n",
       "      <td>Hua Kee Chicken Rice</td>\n",
       "      <td>NaN</td>\n",
       "      <td>NaN</td>\n",
       "      <td>101-250</td>\n",
       "      <td>1222</td>\n",
       "      <td>3.332441</td>\n",
       "    </tr>\n",
       "    <tr>\n",
       "      <th>44437</th>\n",
       "      <td>Changla Cafeteria Ladakh, India</td>\n",
       "      <td>NaN</td>\n",
       "      <td>NaN</td>\n",
       "      <td>100-3000</td>\n",
       "      <td>31</td>\n",
       "      <td>3.332441</td>\n",
       "    </tr>\n",
       "    <tr>\n",
       "      <th>61136</th>\n",
       "      <td>บะหมี่เกี๊ยวเลียบคลองสอง (บะหมี่เกี๊ยวหมูแดงเล...</td>\n",
       "      <td>NaN</td>\n",
       "      <td>NaN</td>\n",
       "      <td>100-3000</td>\n",
       "      <td>19300</td>\n",
       "      <td>3.232441</td>\n",
       "    </tr>\n",
       "    <tr>\n",
       "      <th>53924</th>\n",
       "      <td>Jamie's Italian Perth</td>\n",
       "      <td>NaN</td>\n",
       "      <td>NaN</td>\n",
       "      <td>501-1000</td>\n",
       "      <td>17</td>\n",
       "      <td>3.097199</td>\n",
       "    </tr>\n",
       "    <tr>\n",
       "      <th>60973</th>\n",
       "      <td>Hofburg</td>\n",
       "      <td>NaN</td>\n",
       "      <td>NaN</td>\n",
       "      <td>501-1000</td>\n",
       "      <td>59</td>\n",
       "      <td>3.097199</td>\n",
       "    </tr>\n",
       "    <tr>\n",
       "      <th>37293</th>\n",
       "      <td>ทองคำเลือดหมู</td>\n",
       "      <td>NaN</td>\n",
       "      <td>NaN</td>\n",
       "      <td>100-3000</td>\n",
       "      <td>1433</td>\n",
       "      <td>3.097199</td>\n",
       "    </tr>\n",
       "    <tr>\n",
       "      <th>64542</th>\n",
       "      <td>สเต็กออนลี่</td>\n",
       "      <td>NaN</td>\n",
       "      <td>NaN</td>\n",
       "      <td>101-250</td>\n",
       "      <td>1860</td>\n",
       "      <td>2.997199</td>\n",
       "    </tr>\n",
       "    <tr>\n",
       "      <th>54064</th>\n",
       "      <td>O-OH Farm ฉลอง ฉลอง</td>\n",
       "      <td>NaN</td>\n",
       "      <td>NaN</td>\n",
       "      <td>101-250</td>\n",
       "      <td>2028</td>\n",
       "      <td>2.836616</td>\n",
       "    </tr>\n",
       "    <tr>\n",
       "      <th>37570</th>\n",
       "      <td>Praise House Comgee and Noodle cuisine</td>\n",
       "      <td>NaN</td>\n",
       "      <td>NaN</td>\n",
       "      <td>251-500</td>\n",
       "      <td>661</td>\n",
       "      <td>2.797199</td>\n",
       "    </tr>\n",
       "  </tbody>\n",
       "</table>\n",
       "</div>"
      ],
      "text/plain": [
       "                                                    name description  \\\n",
       "61292                              Beach Tango Koh Chang         NaN   \n",
       "35132                               Hua Kee Chicken Rice         NaN   \n",
       "44437                    Changla Cafeteria Ladakh, India         NaN   \n",
       "61136  บะหมี่เกี๊ยวเลียบคลองสอง (บะหมี่เกี๊ยวหมูแดงเล...         NaN   \n",
       "53924                              Jamie's Italian Perth         NaN   \n",
       "60973                                            Hofburg         NaN   \n",
       "37293                                      ทองคำเลือดหมู         NaN   \n",
       "64542                                        สเต็กออนลี่         NaN   \n",
       "54064                                O-OH Farm ฉลอง ฉลอง         NaN   \n",
       "37570             Praise House Comgee and Noodle cuisine         NaN   \n",
       "\n",
       "                                                 website shop_price  \\\n",
       "61292  http://beachtangorestaurantkohchang.business.s...    101-250   \n",
       "35132                                                NaN    101-250   \n",
       "44437                                                NaN   100-3000   \n",
       "61136                                                NaN   100-3000   \n",
       "53924                                                NaN   501-1000   \n",
       "60973                                                NaN   501-1000   \n",
       "37293                                                NaN   100-3000   \n",
       "64542                                                NaN    101-250   \n",
       "54064                                                NaN    101-250   \n",
       "37570                                                NaN    251-500   \n",
       "\n",
       "       near_shop_counts    scores  \n",
       "61292              7412  3.416721  \n",
       "35132              1222  3.332441  \n",
       "44437                31  3.332441  \n",
       "61136             19300  3.232441  \n",
       "53924                17  3.097199  \n",
       "60973                59  3.097199  \n",
       "37293              1433  3.097199  \n",
       "64542              1860  2.997199  \n",
       "54064              2028  2.836616  \n",
       "37570               661  2.797199  "
      ]
     },
     "execution_count": 317,
     "metadata": {},
     "output_type": "execute_result"
    }
   ],
   "source": [
    "shop_with_scores = shop.set_index(\"id\").merge(sorted_shop,left_index=True, right_index=True).sort_values(\"scores\", ascending=False)\n",
    "shop_with_scores[['name','description', 'website','shop_price','near_shop_counts','scores']].head(10)"
   ]
  },
  {
   "cell_type": "markdown",
   "metadata": {},
   "source": [
    "### What if we want to emphasize more expensive shop in the front page\n",
    "\n",
    "---\n",
    "\n",
    "Easy, just reset the weight.\n",
    "\n",
    "Instead of penalizing expensive shop, we want to encourage the price instead by this ser of new weight\n"
   ]
  },
  {
   "cell_type": "code",
   "execution_count": 318,
   "metadata": {},
   "outputs": [],
   "source": [
    "weights_more_expensive =  {\n",
    "     'tel_count': 0.3,\n",
    "     'has_website': 0.8,\n",
    "     'has_line': 0.6,\n",
    "     'has_facebook':0.4,\n",
    "     'has_instagram': 0.7,\n",
    "     'has_all': 0.3,\n",
    "     'has_carpark_i':0.9,\n",
    "     'open_period_count': 0.2,\n",
    "     'shop_average_log_price': 2.75,\n",
    "     'near_shop_counts_log': 0.03,\n",
    "     'description_length': 0.05\n",
    "}"
   ]
  },
  {
   "cell_type": "code",
   "execution_count": null,
   "metadata": {},
   "outputs": [],
   "source": [
    "selected_features['scores'] = selected_features.apply(apply_score(weights_more_expensive), axis=1)\n",
    "selected_features['scores'].hist()"
   ]
  },
  {
   "cell_type": "code",
   "execution_count": null,
   "metadata": {},
   "outputs": [],
   "source": [
    "shop_with_scores = shop.set_index(\"id\").merge(sorted_shop,left_index=True, right_index=True).sort_values(\"scores\", ascending=False)\n",
    "shop_with_scores[['name','description', 'website','shop_price','near_shop_counts','scores']].head(10)"
   ]
  },
  {
   "cell_type": "code",
   "execution_count": null,
   "metadata": {},
   "outputs": [],
   "source": []
  },
  {
   "cell_type": "code",
   "execution_count": null,
   "metadata": {},
   "outputs": [],
   "source": []
  }
 ],
 "metadata": {
  "kernelspec": {
   "display_name": "Python 3",
   "language": "python",
   "name": "python3"
  },
  "language_info": {
   "codemirror_mode": {
    "name": "ipython",
    "version": 3
   },
   "file_extension": ".py",
   "mimetype": "text/x-python",
   "name": "python",
   "nbconvert_exporter": "python",
   "pygments_lexer": "ipython3",
   "version": "3.7.4"
  }
 },
 "nbformat": 4,
 "nbformat_minor": 2
}
